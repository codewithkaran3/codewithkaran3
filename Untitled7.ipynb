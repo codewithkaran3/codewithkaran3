{
  "nbformat": 4,
  "nbformat_minor": 0,
  "metadata": {
    "colab": {
      "name": "Untitled7.ipynb",
      "provenance": [],
      "authorship_tag": "ABX9TyPkQxiwvga1/TEb4An+B2Xe",
      "include_colab_link": true
    },
    "kernelspec": {
      "name": "python3",
      "display_name": "Python 3"
    },
    "language_info": {
      "name": "python"
    }
  },
  "cells": [
    {
      "cell_type": "markdown",
      "metadata": {
        "id": "view-in-github",
        "colab_type": "text"
      },
      "source": [
        "<a href=\"https://colab.research.google.com/github/codewithkaran3/codewithkaran3/blob/main/Untitled7.ipynb\" target=\"_parent\"><img src=\"https://colab.research.google.com/assets/colab-badge.svg\" alt=\"Open In Colab\"/></a>"
      ]
    },
    {
      "cell_type": "code",
      "source": [
        "pip install yfinance"
      ],
      "metadata": {
        "colab": {
          "base_uri": "https://localhost:8080/",
          "height": 502
        },
        "id": "9t0xs6vznXYs",
        "outputId": "33ef162e-f625-4432-b036-289528a2613d"
      },
      "execution_count": 8,
      "outputs": [
        {
          "output_type": "stream",
          "name": "stdout",
          "text": [
            "Looking in indexes: https://pypi.org/simple, https://us-python.pkg.dev/colab-wheels/public/simple/\n",
            "Collecting yfinance\n",
            "  Downloading yfinance-0.1.74-py2.py3-none-any.whl (27 kB)\n",
            "Requirement already satisfied: numpy>=1.15 in /usr/local/lib/python3.7/dist-packages (from yfinance) (1.21.6)\n",
            "Requirement already satisfied: lxml>=4.5.1 in /usr/local/lib/python3.7/dist-packages (from yfinance) (4.9.1)\n",
            "Collecting requests>=2.26\n",
            "  Downloading requests-2.28.1-py3-none-any.whl (62 kB)\n",
            "\u001b[K     |████████████████████████████████| 62 kB 1.2 MB/s \n",
            "\u001b[?25hRequirement already satisfied: pandas>=0.24.0 in /usr/local/lib/python3.7/dist-packages (from yfinance) (1.3.5)\n",
            "Requirement already satisfied: multitasking>=0.0.7 in /usr/local/lib/python3.7/dist-packages (from yfinance) (0.0.11)\n",
            "Requirement already satisfied: pytz>=2017.3 in /usr/local/lib/python3.7/dist-packages (from pandas>=0.24.0->yfinance) (2022.1)\n",
            "Requirement already satisfied: python-dateutil>=2.7.3 in /usr/local/lib/python3.7/dist-packages (from pandas>=0.24.0->yfinance) (2.8.2)\n",
            "Requirement already satisfied: six>=1.5 in /usr/local/lib/python3.7/dist-packages (from python-dateutil>=2.7.3->pandas>=0.24.0->yfinance) (1.15.0)\n",
            "Requirement already satisfied: charset-normalizer<3,>=2 in /usr/local/lib/python3.7/dist-packages (from requests>=2.26->yfinance) (2.1.0)\n",
            "Requirement already satisfied: urllib3<1.27,>=1.21.1 in /usr/local/lib/python3.7/dist-packages (from requests>=2.26->yfinance) (1.24.3)\n",
            "Requirement already satisfied: certifi>=2017.4.17 in /usr/local/lib/python3.7/dist-packages (from requests>=2.26->yfinance) (2022.6.15)\n",
            "Requirement already satisfied: idna<4,>=2.5 in /usr/local/lib/python3.7/dist-packages (from requests>=2.26->yfinance) (2.10)\n",
            "Installing collected packages: requests, yfinance\n",
            "  Attempting uninstall: requests\n",
            "    Found existing installation: requests 2.23.0\n",
            "    Uninstalling requests-2.23.0:\n",
            "      Successfully uninstalled requests-2.23.0\n",
            "Successfully installed requests-2.28.1 yfinance-0.1.74\n"
          ]
        },
        {
          "output_type": "display_data",
          "data": {
            "application/vnd.colab-display-data+json": {
              "pip_warning": {
                "packages": [
                  "requests"
                ]
              }
            }
          },
          "metadata": {}
        }
      ]
    },
    {
      "cell_type": "code",
      "source": [
        "import pandas as pd\n",
        "import numpy as np\n",
        "import matplotlib.pyplot as plt\n",
        "import yfinance as yf\n",
        "import datetime"
      ],
      "metadata": {
        "id": "-1V8jrygn-Wy"
      },
      "execution_count": 7,
      "outputs": []
    },
    {
      "cell_type": "code",
      "source": [
        "start = datetime.datetime(2019,9,15)\n",
        "end = datetime.datetime(2021,9,15)"
      ],
      "metadata": {
        "id": "AfhqLnt-r0ii"
      },
      "execution_count": 15,
      "outputs": []
    },
    {
      "cell_type": "code",
      "source": [
        "def get_stock(ticker):\n",
        "    data = yf.download(f\"{ticker}\",start,end)\n",
        "    data[f'{ticker}'] = data[\"Close\"]\n",
        "    data = data[[f'{ticker}']] \n",
        "    print(data.head())\n",
        "    return data"
      ],
      "metadata": {
        "id": "CRq7oG-XqOHQ"
      },
      "execution_count": 16,
      "outputs": []
    },
    {
      "cell_type": "code",
      "source": [
        "from functools import reduce\n",
        "\n",
        "def combine_stocks(tickers):\n",
        "    data_frames = []\n",
        "    for i in tickers:\n",
        "        data_frames.append(get_stock(i))\n",
        "        \n",
        "    df_merged = reduce(lambda  left,right: pd.merge(left,right,on=['Date'], how='outer'), data_frames)\n",
        "    print(df_merged.head())\n",
        "    return df_merged\n",
        "\n"
      ],
      "metadata": {
        "id": "pw0sBERst95t"
      },
      "execution_count": 21,
      "outputs": []
    },
    {
      "cell_type": "code",
      "source": [
        "stocks = [\"MRNA\", \"PFE\", \"JNJ\", \"GOOGL\", \n",
        "         \"AAPL\", \"COST\", \"WMT\", \"KR\", \"JPM\", \n",
        "          \"BAC\", \"HSBC\"]\n",
        "portfolio = combine_stocks(stocks)"
      ],
      "metadata": {
        "colab": {
          "base_uri": "https://localhost:8080/"
        },
        "id": "X0YroZlquyUs",
        "outputId": "ff43b204-edf8-41ab-d4b3-d5396af35a74"
      },
      "execution_count": 30,
      "outputs": [
        {
          "output_type": "stream",
          "name": "stdout",
          "text": [
            "\r[*********************100%***********************]  1 of 1 completed\n",
            "                 MRNA\n",
            "Date                 \n",
            "2019-09-16  17.049999\n",
            "2019-09-17  17.660000\n",
            "2019-09-18  17.780001\n",
            "2019-09-19  17.900000\n",
            "2019-09-20  18.070000\n",
            "[*********************100%***********************]  1 of 1 completed\n",
            "                  PFE\n",
            "Date                 \n",
            "2019-09-16  34.943073\n",
            "2019-09-17  34.629982\n",
            "2019-09-18  34.516129\n",
            "2019-09-19  34.639469\n",
            "2019-09-20  34.810246\n",
            "[*********************100%***********************]  1 of 1 completed\n",
            "                   JNJ\n",
            "Date                  \n",
            "2019-09-16  129.539993\n",
            "2019-09-17  129.669998\n",
            "2019-09-18  130.410004\n",
            "2019-09-19  130.110001\n",
            "2019-09-20  131.649994\n",
            "[*********************100%***********************]  1 of 1 completed\n",
            "                GOOGL\n",
            "Date                 \n",
            "2019-09-16  61.581501\n",
            "2019-09-17  61.493999\n",
            "2019-09-18  61.632500\n",
            "2019-09-19  61.937500\n",
            "2019-09-20  61.492001\n",
            "[*********************100%***********************]  1 of 1 completed\n",
            "                 AAPL\n",
            "Date                 \n",
            "2019-09-16  54.974998\n",
            "2019-09-17  55.174999\n",
            "2019-09-18  55.692501\n",
            "2019-09-19  55.240002\n",
            "2019-09-20  54.432499\n",
            "[*********************100%***********************]  1 of 1 completed\n",
            "                  COST\n",
            "Date                  \n",
            "2019-09-16  288.690002\n",
            "2019-09-17  291.410004\n",
            "2019-09-18  292.429993\n",
            "2019-09-19  287.829987\n",
            "2019-09-20  286.359985\n",
            "[*********************100%***********************]  1 of 1 completed\n",
            "                   WMT\n",
            "Date                  \n",
            "2019-09-16  115.570000\n",
            "2019-09-17  116.510002\n",
            "2019-09-18  117.160004\n",
            "2019-09-19  117.110001\n",
            "2019-09-20  116.980003\n",
            "[*********************100%***********************]  1 of 1 completed\n",
            "                   KR\n",
            "Date                 \n",
            "2019-09-16  25.980000\n",
            "2019-09-17  25.650000\n",
            "2019-09-18  25.219999\n",
            "2019-09-19  25.820000\n",
            "2019-09-20  25.680000\n",
            "[*********************100%***********************]  1 of 1 completed\n",
            "                   JPM\n",
            "Date                  \n",
            "2019-09-16  119.160004\n",
            "2019-09-17  118.570000\n",
            "2019-09-18  119.760002\n",
            "2019-09-19  119.379997\n",
            "2019-09-20  118.900002\n",
            "[*********************100%***********************]  1 of 1 completed\n",
            "                  BAC\n",
            "Date                 \n",
            "2019-09-16  30.129999\n",
            "2019-09-17  29.940001\n",
            "2019-09-18  30.000000\n",
            "2019-09-19  29.820000\n",
            "2019-09-20  29.590000\n",
            "[*********************100%***********************]  1 of 1 completed\n",
            "                 HSBC\n",
            "Date                 \n",
            "2019-09-16  38.389999\n",
            "2019-09-17  38.299999\n",
            "2019-09-18  38.200001\n",
            "2019-09-19  38.230000\n",
            "2019-09-20  38.160000\n",
            "                 MRNA        PFE         JNJ      GOOGL       AAPL  \\\n",
            "Date                                                                 \n",
            "2019-09-16  17.049999  34.943073  129.539993  61.581501  54.974998   \n",
            "2019-09-17  17.660000  34.629982  129.669998  61.493999  55.174999   \n",
            "2019-09-18  17.780001  34.516129  130.410004  61.632500  55.692501   \n",
            "2019-09-19  17.900000  34.639469  130.110001  61.937500  55.240002   \n",
            "2019-09-20  18.070000  34.810246  131.649994  61.492001  54.432499   \n",
            "\n",
            "                  COST         WMT         KR         JPM        BAC  \\\n",
            "Date                                                                   \n",
            "2019-09-16  288.690002  115.570000  25.980000  119.160004  30.129999   \n",
            "2019-09-17  291.410004  116.510002  25.650000  118.570000  29.940001   \n",
            "2019-09-18  292.429993  117.160004  25.219999  119.760002  30.000000   \n",
            "2019-09-19  287.829987  117.110001  25.820000  119.379997  29.820000   \n",
            "2019-09-20  286.359985  116.980003  25.680000  118.900002  29.590000   \n",
            "\n",
            "                 HSBC  \n",
            "Date                   \n",
            "2019-09-16  38.389999  \n",
            "2019-09-17  38.299999  \n",
            "2019-09-18  38.200001  \n",
            "2019-09-19  38.230000  \n",
            "2019-09-20  38.160000  \n"
          ]
        }
      ]
    },
    {
      "cell_type": "code",
      "source": [
        "portfolio.to_csv(\"portfolio.csv\", index=False)"
      ],
      "metadata": {
        "id": "IIRWV7rLu78D"
      },
      "execution_count": 31,
      "outputs": []
    },
    {
      "cell_type": "code",
      "source": [
        "portfolio = pd.read_csv(\"portfolio.csv\")"
      ],
      "metadata": {
        "id": "v38g2iHTvFO7"
      },
      "execution_count": 32,
      "outputs": []
    },
    {
      "cell_type": "code",
      "source": [
        "pip install PyPortfolioOpt"
      ],
      "metadata": {
        "colab": {
          "base_uri": "https://localhost:8080/"
        },
        "id": "Uw20s1xSvJy0",
        "outputId": "2266f956-7b09-4fa6-8f4b-4075103c0053"
      },
      "execution_count": 33,
      "outputs": [
        {
          "output_type": "stream",
          "name": "stdout",
          "text": [
            "Looking in indexes: https://pypi.org/simple, https://us-python.pkg.dev/colab-wheels/public/simple/\n",
            "Requirement already satisfied: PyPortfolioOpt in /usr/local/lib/python3.7/dist-packages (1.5.2)\n",
            "Requirement already satisfied: pandas>=0.19 in /usr/local/lib/python3.7/dist-packages (from PyPortfolioOpt) (1.3.5)\n",
            "Requirement already satisfied: scipy<2.0,>=1.3 in /usr/local/lib/python3.7/dist-packages (from PyPortfolioOpt) (1.7.3)\n",
            "Requirement already satisfied: numpy<2.0,>=1.12 in /usr/local/lib/python3.7/dist-packages (from PyPortfolioOpt) (1.21.6)\n",
            "Requirement already satisfied: cvxpy<2.0.0,>=1.1.10 in /usr/local/lib/python3.7/dist-packages (from PyPortfolioOpt) (1.2.1)\n",
            "Requirement already satisfied: osqp>=0.4.1 in /usr/local/lib/python3.7/dist-packages (from cvxpy<2.0.0,>=1.1.10->PyPortfolioOpt) (0.6.2.post0)\n",
            "Requirement already satisfied: ecos>=2 in /usr/local/lib/python3.7/dist-packages (from cvxpy<2.0.0,>=1.1.10->PyPortfolioOpt) (2.0.10)\n",
            "Requirement already satisfied: scs>=1.1.6 in /usr/local/lib/python3.7/dist-packages (from cvxpy<2.0.0,>=1.1.10->PyPortfolioOpt) (3.2.0)\n",
            "Requirement already satisfied: qdldl in /usr/local/lib/python3.7/dist-packages (from osqp>=0.4.1->cvxpy<2.0.0,>=1.1.10->PyPortfolioOpt) (0.1.5.post2)\n",
            "Requirement already satisfied: pytz>=2017.3 in /usr/local/lib/python3.7/dist-packages (from pandas>=0.19->PyPortfolioOpt) (2022.1)\n",
            "Requirement already satisfied: python-dateutil>=2.7.3 in /usr/local/lib/python3.7/dist-packages (from pandas>=0.19->PyPortfolioOpt) (2.8.2)\n",
            "Requirement already satisfied: six>=1.5 in /usr/local/lib/python3.7/dist-packages (from python-dateutil>=2.7.3->pandas>=0.19->PyPortfolioOpt) (1.15.0)\n"
          ]
        }
      ]
    },
    {
      "cell_type": "code",
      "source": [
        "from pypfopt.expected_returns import mean_historical_return\n",
        "from pypfopt.risk_models import CovarianceShrinkage\n",
        "\n",
        "\n",
        "mu = mean_historical_return(portfolio)\n",
        "S = CovarianceShrinkage(portfolio).ledoit_wolf()"
      ],
      "metadata": {
        "id": "Lw2t5vwbvSsm"
      },
      "execution_count": 34,
      "outputs": []
    },
    {
      "cell_type": "code",
      "source": [
        "from pypfopt.efficient_frontier import EfficientFrontier\n",
        "\n",
        "ef = EfficientFrontier(mu, S)\n",
        "weights = ef.max_sharpe()\n",
        "\n",
        "cleaned_weights = ef.clean_weights()\n",
        "print(dict(cleaned_weights))"
      ],
      "metadata": {
        "colab": {
          "base_uri": "https://localhost:8080/"
        },
        "id": "RtA3cNqgvXoq",
        "outputId": "4bf565ad-2c52-40e9-f944-7b62c4ed6d36"
      },
      "execution_count": 35,
      "outputs": [
        {
          "output_type": "stream",
          "name": "stdout",
          "text": [
            "{'MRNA': 0.48553, 'PFE': 0.0, 'JNJ': 0.0, 'GOOGL': 0.28492, 'AAPL': 0.17176, 'COST': 0.0, 'WMT': 0.0, 'KR': 0.05779, 'JPM': 0.0, 'BAC': 0.0, 'HSBC': 0.0}\n"
          ]
        }
      ]
    },
    {
      "cell_type": "code",
      "source": [
        "ef.portfolio_performance(verbose=True)"
      ],
      "metadata": {
        "colab": {
          "base_uri": "https://localhost:8080/"
        },
        "id": "aIAMelAqv1GB",
        "outputId": "a02f90ad-f2fd-42e3-d59c-ae6e98d38cee"
      },
      "execution_count": 36,
      "outputs": [
        {
          "output_type": "stream",
          "name": "stdout",
          "text": [
            "Expected annual return: 222.9%\n",
            "Annual volatility: 44.4%\n",
            "Sharpe Ratio: 4.98\n"
          ]
        },
        {
          "output_type": "execute_result",
          "data": {
            "text/plain": [
              "(2.2289877708199874, 0.44371972556226025, 4.978340253007379)"
            ]
          },
          "metadata": {},
          "execution_count": 36
        }
      ]
    },
    {
      "cell_type": "code",
      "source": [
        "from pypfopt.discrete_allocation import DiscreteAllocation, get_latest_prices\n",
        "\n",
        "latest_prices = get_latest_prices(portfolio)\n",
        "\n",
        "da = DiscreteAllocation(weights, latest_prices, total_portfolio_value=100000)\n",
        "\n",
        "allocation, leftover = da.greedy_portfolio()\n",
        "print(\"Discrete allocation:\", allocation)\n",
        "print(\"Funds remaining: ${:.2f}\".format(leftover))"
      ],
      "metadata": {
        "colab": {
          "base_uri": "https://localhost:8080/"
        },
        "id": "iHOENyKJv88u",
        "outputId": "81769624-7c42-41fd-a751-c63ff47d6d2d"
      },
      "execution_count": 37,
      "outputs": [
        {
          "output_type": "stream",
          "name": "stdout",
          "text": [
            "Discrete allocation: {'MRNA': 113, 'GOOGL': 200, 'AAPL': 116, 'KR': 139}\n",
            "Funds remaining: $169.14\n"
          ]
        }
      ]
    }
  ]
}